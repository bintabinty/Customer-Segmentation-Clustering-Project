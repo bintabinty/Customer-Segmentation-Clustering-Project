{
  "nbformat": 4,
  "nbformat_minor": 0,
  "metadata": {
    "colab": {
      "provenance": [],
      "gpuType": "T4"
    },
    "kernelspec": {
      "name": "python3",
      "display_name": "Python 3"
    },
    "language_info": {
      "name": "python"
    },
    "accelerator": "GPU"
  },
  "cells": [
    {
      "cell_type": "markdown",
      "source": [
        "## **Phase 1: Week 1 - Project Kick-off and Data Collection**\n",
        "Objectives:\n",
        "Data Collection: Retrieve the customer dataset.\n",
        "\n",
        "Data Preprocessing: Cleanse and preprocess the dataset, addressing any missing values, outliers, or necessary data transformations.\n",
        "\n",
        "Exploratory Data Analysis (EDA): Perform initial EDA to understand the dataset's structure and gain insights"
      ],
      "metadata": {
        "id": "D7zYwRMMuRhn"
      }
    },
    {
      "cell_type": "code",
      "execution_count": 1,
      "metadata": {
        "id": "LjxBkofXt9I6"
      },
      "outputs": [],
      "source": [
        "import pandas as pd\n",
        "import numpy as np\n",
        "import matplotlib.pyplot as plt\n",
        "import seaborn as sns"
      ]
    },
    {
      "cell_type": "markdown",
      "source": [
        "## Data Collection: Load the provided train and test datasets"
      ],
      "metadata": {
        "id": "fHSkvBYCut2J"
      }
    },
    {
      "cell_type": "code",
      "source": [
        "from google.colab import drive\n",
        "drive.mount(\"/content/drive\")"
      ],
      "metadata": {
        "colab": {
          "base_uri": "https://localhost:8080/"
        },
        "id": "Zjd7rft5uw1i",
        "outputId": "45238ff1-855d-43d2-8fd7-d00dcea6289f"
      },
      "execution_count": 2,
      "outputs": [
        {
          "output_type": "stream",
          "name": "stdout",
          "text": [
            "Mounted at /content/drive\n"
          ]
        }
      ]
    },
    {
      "cell_type": "code",
      "source": [
        "# Load the datasets\n",
        "train_path = '/content/drive/My Drive/Datasets/Train.csv'\n",
        "test_path = '/content/drive/My Drive/Datasets/Test.csv'\n",
        "\n",
        "train_df = pd.read_csv(train_path)\n",
        "test_df = pd.read_csv(test_path)"
      ],
      "metadata": {
        "id": "mFnPZ9KGw7iT"
      },
      "execution_count": 5,
      "outputs": []
    },
    {
      "cell_type": "markdown",
      "source": [
        "## Basic info"
      ],
      "metadata": {
        "id": "allfx55yw_fE"
      }
    },
    {
      "cell_type": "code",
      "source": [
        "train_df.shape"
      ],
      "metadata": {
        "colab": {
          "base_uri": "https://localhost:8080/"
        },
        "id": "qFqQ_uiIxCvd",
        "outputId": "746a72e9-2056-41bf-9b94-0695aa9d4674"
      },
      "execution_count": 7,
      "outputs": [
        {
          "output_type": "execute_result",
          "data": {
            "text/plain": [
              "(31647, 18)"
            ]
          },
          "metadata": {},
          "execution_count": 7
        }
      ]
    },
    {
      "cell_type": "code",
      "source": [
        "test_df.shape"
      ],
      "metadata": {
        "colab": {
          "base_uri": "https://localhost:8080/"
        },
        "id": "lwXfP-UExKtP",
        "outputId": "9801f201-6cf1-4ed7-8cc1-db523489868a"
      },
      "execution_count": 8,
      "outputs": [
        {
          "output_type": "execute_result",
          "data": {
            "text/plain": [
              "(13564, 17)"
            ]
          },
          "metadata": {},
          "execution_count": 8
        }
      ]
    },
    {
      "cell_type": "code",
      "source": [
        "train_df.info()"
      ],
      "metadata": {
        "colab": {
          "base_uri": "https://localhost:8080/"
        },
        "id": "AOHY5-01xNkO",
        "outputId": "ccc11596-5412-408f-e7fd-a689ea95319a"
      },
      "execution_count": 9,
      "outputs": [
        {
          "output_type": "stream",
          "name": "stdout",
          "text": [
            "<class 'pandas.core.frame.DataFrame'>\n",
            "RangeIndex: 31647 entries, 0 to 31646\n",
            "Data columns (total 18 columns):\n",
            " #   Column                            Non-Null Count  Dtype  \n",
            "---  ------                            --------------  -----  \n",
            " 0   id                                31647 non-null  object \n",
            " 1   customer_age                      31028 non-null  float64\n",
            " 2   job_type                          31647 non-null  object \n",
            " 3   marital                           31497 non-null  object \n",
            " 4   education                         31647 non-null  object \n",
            " 5   default                           31647 non-null  object \n",
            " 6   balance                           31248 non-null  float64\n",
            " 7   housing_loan                      31647 non-null  object \n",
            " 8   personal_loan                     31498 non-null  object \n",
            " 9   communication_type                31647 non-null  object \n",
            " 10  day_of_month                      31647 non-null  int64  \n",
            " 11  month                             31647 non-null  object \n",
            " 12  last_contact_duration             31336 non-null  float64\n",
            " 13  num_contacts_in_campaign          31535 non-null  float64\n",
            " 14  days_since_prev_campaign_contact  5816 non-null   float64\n",
            " 15  num_contacts_prev_campaign        31647 non-null  int64  \n",
            " 16  prev_campaign_outcome             31647 non-null  object \n",
            " 17  term_deposit_subscribed           31647 non-null  int64  \n",
            "dtypes: float64(5), int64(3), object(10)\n",
            "memory usage: 4.3+ MB\n"
          ]
        }
      ]
    },
    {
      "cell_type": "code",
      "source": [
        "test_df.info()"
      ],
      "metadata": {
        "colab": {
          "base_uri": "https://localhost:8080/"
        },
        "id": "YkLt7PsaxRGc",
        "outputId": "16014813-9d75-4f93-b253-6867b7a211a6"
      },
      "execution_count": 10,
      "outputs": [
        {
          "output_type": "stream",
          "name": "stdout",
          "text": [
            "<class 'pandas.core.frame.DataFrame'>\n",
            "RangeIndex: 13564 entries, 0 to 13563\n",
            "Data columns (total 17 columns):\n",
            " #   Column                            Non-Null Count  Dtype  \n",
            "---  ------                            --------------  -----  \n",
            " 0   id                                13564 non-null  object \n",
            " 1   customer_age                      13294 non-null  float64\n",
            " 2   job_type                          13564 non-null  object \n",
            " 3   marital                           13483 non-null  object \n",
            " 4   education                         13564 non-null  object \n",
            " 5   default                           13564 non-null  object \n",
            " 6   balance                           13383 non-null  float64\n",
            " 7   housing_loan                      13564 non-null  object \n",
            " 8   personal_loan                     13490 non-null  object \n",
            " 9   communication_type                13564 non-null  object \n",
            " 10  day_of_month                      13564 non-null  int64  \n",
            " 11  month                             13564 non-null  object \n",
            " 12  last_contact_duration             13442 non-null  float64\n",
            " 13  num_contacts_in_campaign          13519 non-null  float64\n",
            " 14  days_since_prev_campaign_contact  2441 non-null   float64\n",
            " 15  num_contacts_prev_campaign        13564 non-null  int64  \n",
            " 16  prev_campaign_outcome             13564 non-null  object \n",
            "dtypes: float64(5), int64(2), object(10)\n",
            "memory usage: 1.8+ MB\n"
          ]
        }
      ]
    },
    {
      "cell_type": "code",
      "source": [
        "train_df.columns"
      ],
      "metadata": {
        "id": "vqoSt4oM-jDU"
      },
      "execution_count": null,
      "outputs": []
    },
    {
      "cell_type": "code",
      "source": [
        "test_df.columns"
      ],
      "metadata": {
        "id": "AKbchML5-nlw"
      },
      "execution_count": null,
      "outputs": []
    },
    {
      "cell_type": "code",
      "source": [
        "# Display unique value counts for important features (assuming important features are known)\n",
        "important_features = ['job', 'marital', 'education', 'default', 'housing', 'loan', 'contact', 'month', 'day_of_week', 'poutcome']\n"
      ],
      "metadata": {
        "id": "eXTHS2X0-raG"
      },
      "execution_count": null,
      "outputs": []
    },
    {
      "cell_type": "code",
      "source": [
        "nique_value_counts_train = train_df[important_features].nunique()\n",
        "unique_value_counts_test = test_df[important_features].nunique()\n",
        "\n"
      ],
      "metadata": {
        "id": "afjneBaL_fIa"
      },
      "execution_count": null,
      "outputs": []
    },
    {
      "cell_type": "code",
      "source": [
        "(unique_value_counts_train, unique_value_counts_test)"
      ],
      "metadata": {
        "id": "1m0qA6uS_1vk"
      },
      "execution_count": null,
      "outputs": []
    },
    {
      "cell_type": "code",
      "source": [
        "# Updated important features based on the actual column names in the datasets\n",
        "updated_important_features = [\n",
        "    'job_type', 'marital', 'education', 'default',\n",
        "    'housing_loan', 'personal_loan', 'communication_type',\n",
        "    'month', 'prev_campaign_outcome'\n",
        "]\n",
        "\n",
        "# Unique value counts for the updated important features in the train dataset\n",
        "unique_value_counts_train = train_df[updated_important_features].nunique()\n",
        "\n",
        "# Unique value counts for the updated important features in the test dataset\n",
        "unique_value_counts_test = test_df[updated_important_features].nunique()\n",
        "\n",
        "(unique_value_counts_train, unique_value_counts_test)"
      ],
      "metadata": {
        "id": "XjWGT7P1ADZv"
      },
      "execution_count": null,
      "outputs": []
    },
    {
      "cell_type": "code",
      "source": [
        "# Separate handling for missing values in train and test datasets\n",
        "\n",
        "# Fill missing values in numeric columns with median\n",
        "train_df_filled[numeric_columns] = train_df[numeric_columns].apply(lambda x: x.fillna(x.median()), axis=0)\n",
        "test_df_filled[numeric_columns.drop('term_deposit_subscribed')] = test_df[numeric_columns.drop('term_deposit_subscribed')].apply(lambda x: x.fillna(x.median()), axis=0)\n",
        "\n",
        "# Fill missing values in categorical columns with mode\n",
        "train_df_filled[categorical_columns] = train_df[categorical_columns].apply(lambda x: x.fillna(x.mode()[0]), axis=0)\n",
        "test_df_filled[categorical_columns] = test_df[categorical_columns].apply(lambda x: x.fillna(x.mode()[0]), axis=0)\n",
        "\n",
        "# Check for missing values after handling\n",
        "missing_values_train_filled = train_df_filled.isnull().sum()\n",
        "missing_values_test_filled = test_df_filled.isnull().sum()\n",
        "\n",
        "(missing_values_train, missing_values_train_filled, missing_values_test, missing_values_test_filled)\n"
      ],
      "metadata": {
        "id": "wEzaL0RrAYwN"
      },
      "execution_count": null,
      "outputs": []
    }
  ]
}